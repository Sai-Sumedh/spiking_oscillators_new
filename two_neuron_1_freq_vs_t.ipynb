{
 "cells": [
  {
   "cell_type": "markdown",
   "metadata": {},
   "source": [
    "# Characterize 2-neuron coupled oscillators"
   ]
  },
  {
   "cell_type": "markdown",
   "metadata": {},
   "source": [
    "Parameters of a general pair of coupled oscillators:\n",
    "1. Oscillator parameters\n",
    "2. Coupling parameters\n",
    "\n",
    "---\n",
    "\n",
    "For spiking oscillators, we have:\n",
    "1. Oscillator parameters: (frequency control and initial phase control)\n",
    " \n",
    " Initial phase set manually, frequency controlled using external bias voltage V_0\n",
    "\n",
    "2. **Coupling parameters (i.e. synaptic parameters):**\n",
    "\n",
    "Post-Synaptic Potential waveform (peak normalized), and \n",
    "Synaptic weight (height of PSP)\n",
    "\n",
    "For the specific case of a double exponential post-synaptic potential, the two time-constants \\tau_0 and \\tau_1 are free parameters\n",
    "\n",
    "---\n",
    "\n",
    "Hence, the free parameters are:\n",
    "\n",
    "1. PSP time constants\n",
    "2. synaptic weight\n",
    "\n",
    "---\n",
    "\n",
    "Goal: Answer the following:\n",
    "1. How does frequency change due to coupling? What is the dependence of the change on the free parameters?\n",
    "2. How do oscillator and coupling parameters influence settling time (time after which frequency stabilizes and phase difference is constant)?"
   ]
  },
  {
   "cell_type": "code",
   "execution_count": 1,
   "metadata": {},
   "outputs": [],
   "source": [
    "import numpy as np, matplotlib.pyplot as plt\n",
    "import math, time\n",
    "from snn.components.neuron_class import Neuron\n",
    "from snn.components.synapse_class import Synapse\n",
    "from snn.components.network_class import *\n",
    "from snn.functions import *"
   ]
  },
  {
   "cell_type": "code",
   "execution_count": 2,
   "metadata": {},
   "outputs": [],
   "source": [
    "np.random.seed(0)"
   ]
  },
  {
   "cell_type": "code",
   "execution_count": 3,
   "metadata": {},
   "outputs": [
    {
     "data": {
      "text/plain": [
       "Text(0.5, 1.0, 'PSP waveform')"
      ]
     },
     "execution_count": 3,
     "metadata": {},
     "output_type": "execute_result"
    },
    {
     "data": {
      "image/png": "[encoded data removed]",
      "text/plain": [
       "<Figure size 432x288 with 1 Axes>"
      ]
     },
     "metadata": {
      "needs_background": "light"
     },
     "output_type": "display_data"
    }
   ],
   "source": [
    "dt=1e-3\n",
    "h = get_psp_waveform(dt, tau1=6e-3, tau2=4e-3)\n",
    "plt.plot(h)\n",
    "plt.title(\"PSP waveform\")"
   ]
  },
  {
   "cell_type": "code",
   "execution_count": 54,
   "metadata": {},
   "outputs": [],
   "source": [
    "def create_network(num_neurons, w_self, w_cross, adjacency_mat, psp_waveform, v_init, T):\n",
    "    # create neurons\n",
    "    net = Network('net')\n",
    "    for i in range(num_neurons):\n",
    "        net.add_neuron(Neuron(str(i)))\n",
    "    \n",
    "    # create synapses\n",
    "    syn = np.argwhere(adjacency_mat)\n",
    "    for j in range(syn.shape[0]):\n",
    "        \n",
    "        # self connections\n",
    "        if syn[j,0]==syn[j,1]:\n",
    "            net.add_synapse(Synapse(str(syn[j,0])+str(syn[j,1]),net.neurons[syn[j,0]],net.neurons[syn[j,1]], psp_waveform, w=w_self))\n",
    "        \n",
    "        #cross connections\n",
    "        else:\n",
    "            net.add_synapse(Synapse(str(syn[j,0])+str(syn[j,1]),net.neurons[syn[j,0]],net.neurons[syn[j,1]], psp_waveform, w=w_cross))\n",
    "        \n",
    "    probe = net.initialize(probe=True, T_total=T)\n",
    "    net.v[:] = v_init.copy() \n",
    "    return net, probe\n",
    "    "
   ]
  },
  {
   "cell_type": "code",
   "execution_count": 55,
   "metadata": {},
   "outputs": [
    {
     "data": {
      "text/plain": [
       "array([[1, 1],\n",
       "       [1, 1]])"
      ]
     },
     "execution_count": 55,
     "metadata": {},
     "output_type": "execute_result"
    }
   ],
   "source": [
    "np.array([[1,1],[1,1]])"
   ]
  },
  {
   "cell_type": "code",
   "execution_count": 39,
   "metadata": {},
   "outputs": [
    {
     "data": {
      "text/plain": [
       "array([[0.65462909],\n",
       "       [0.03728191]])"
      ]
     },
     "execution_count": 39,
     "metadata": {},
     "output_type": "execute_result"
    }
   ],
   "source": [
    "net.v"
   ]
  },
  {
   "cell_type": "code",
   "execution_count": 56,
   "metadata": {},
   "outputs": [],
   "source": [
    "net2, p2 = create_network(2, -1, 1, np.array([[1, 0],[1, 1]]), h, np.array([[0], [0.1]]), 100)"
   ]
  },
  {
   "cell_type": "code",
   "execution_count": 57,
   "metadata": {},
   "outputs": [
    {
     "data": {
      "text/plain": [
       "['0', '1']"
      ]
     },
     "execution_count": 57,
     "metadata": {},
     "output_type": "execute_result"
    }
   ],
   "source": [
    "[net2.neurons[j].name for j in range(2)]"
   ]
  },
  {
   "cell_type": "code",
   "execution_count": 58,
   "metadata": {},
   "outputs": [
    {
     "data": {
      "text/plain": [
       "['00', '10', '11']"
      ]
     },
     "execution_count": 58,
     "metadata": {},
     "output_type": "execute_result"
    }
   ],
   "source": [
    "[net2.synapses[j].name for j in range(len(net2.synapses))]"
   ]
  },
  {
   "cell_type": "code",
   "execution_count": 4,
   "metadata": {},
   "outputs": [
    {
     "name": "stdout",
     "output_type": "stream",
     "text": [
      "Time take for 1000 iterations=0.11884307861328125s\n"
     ]
    }
   ],
   "source": [
    "w_self=-1\n",
    "w_cross=1\n",
    "v_init=np.random.uniform(0, 1, size=(2,))\n",
    "net = Network('net')\n",
    "n1 = Neuron('n1')\n",
    "n2 = Neuron('n2')\n",
    "neurons = [n1, n2]\n",
    "net.add_neuron(n1)\n",
    "net.add_neuron(n2)\n",
    "\n",
    "syn12 = Synapse('syn_12', n1, n2, h, w=w_cross)\n",
    "syn21 = Synapse('syn_21', n2, n1, h, w=w_cross) # symmetric connectivity\n",
    "\n",
    "syn_self=[]\n",
    "for i in range(2):\n",
    "    syn_self.append(Synapse('syn_'+str(i)+str(i), neurons[i], neurons[i], h, w_self))\n",
    "    net.add_synapse(syn_self[-1])\n",
    "\n",
    "net.add_synapse(syn12)\n",
    "net.add_synapse(syn21)\n",
    "\n",
    "\n",
    "T = 1000\n",
    "\n",
    "# assign initial v \n",
    "n1.v = v_init[0]\n",
    "n2.v = v_init[1]\n",
    "\n",
    "probe = net.initialize(probe=True, T_total = T)\n",
    "\n",
    "V_0 = 1.5\n",
    "v_ext = V_0*np.ones((2, T)) #same frequency of oscillation\n",
    "\n",
    "\n",
    "tic = time.time()\n",
    "for ti in range(T):\n",
    "    net.update_state(dt, v_ext[:,ti].reshape((-1,1)), probe, ti)\n",
    "    \n",
    "print(f\"Time take for {T} iterations={time.time()-tic}s\")"
   ]
  },
  {
   "cell_type": "code",
   "execution_count": 5,
   "metadata": {},
   "outputs": [
    {
     "data": {
      "text/plain": [
       "[<matplotlib.lines.Line2D at 0x25cb7e64388>]"
      ]
     },
     "execution_count": 5,
     "metadata": {},
     "output_type": "execute_result"
    },
    {
     "data": {
      "image/png": "[encoded data removed]",
      "text/plain": [
       "<Figure size 432x288 with 2 Axes>"
      ]
     },
     "metadata": {
      "needs_background": "light"
     },
     "output_type": "display_data"
    }
   ],
   "source": [
    "fig, ax = plt.subplots(2)\n",
    "ax[0].plot(probe['spike'][n1.id,:100])\n",
    "ax[1].plot(probe['spike'][n2.id,:100])"
   ]
  },
  {
   "cell_type": "code",
   "execution_count": 6,
   "metadata": {},
   "outputs": [],
   "source": [
    "f_n1, fint_n1, floc_n1  = freq(probe['spike'][n1.id, :], dt, get_f_loc=True, get_f_interpolated=True)\n",
    "f_n2, fint_n2, floc_n2  = freq(probe['spike'][n2.id, :], dt, get_f_loc=True, get_f_interpolated=True)"
   ]
  },
  {
   "cell_type": "code",
   "execution_count": 7,
   "metadata": {},
   "outputs": [
    {
     "data": {
      "text/plain": [
       "Text(0.5, 1, 'neuron 2')"
      ]
     },
     "execution_count": 7,
     "metadata": {},
     "output_type": "execute_result"
    },
    {
     "data": {
      "image/png": "[encoded data removed]",
      "text/plain": [
       "<Figure size 720x360 with 4 Axes>"
      ]
     },
     "metadata": {
      "needs_background": "light"
     },
     "output_type": "display_data"
    }
   ],
   "source": [
    "fig, ax = plt.subplots(2, figsize=(10,5))\n",
    "fig.tight_layout()\n",
    "ax[0].plot(floc_n1, f_n1, 'ro--')\n",
    "ax0_A = ax[0].twinx()\n",
    "ax0_A.plot([dt*i for i in range(T)] ,probe['v'][n1.id, :], 'c')\n",
    "ax[0].set_xlim(0,0.5)\n",
    "ax[1].plot(floc_n2, f_n2, 'go--')\n",
    "ax1_A = ax[1].twinx()\n",
    "ax1_A.plot([dt*i for i in range(T)] ,probe['v'][n2.id, :], '')\n",
    "ax[1].set_xlim(0,0.5)\n",
    "\n",
    "ax[0].legend('f_n1', )\n",
    "ax0_A.legend('v_n1')\n",
    "ax[1].legend('f_n2')\n",
    "ax1_A.legend('v_n2')\n",
    "\n",
    "ax[0].set_ylabel('f')\n",
    "ax0_A.set_ylabel('v')\n",
    "ax[1].set_ylabel('f')\n",
    "ax1_A.set_ylabel('v')\n",
    "\n",
    "ax[0].set_title('neuron 1')\n",
    "ax[1].set_title('neuron 2')\n"
   ]
  },
  {
   "cell_type": "code",
   "execution_count": 8,
   "metadata": {},
   "outputs": [
    {
     "data": {
      "text/plain": [
       "<Figure size 720x360 with 0 Axes>"
      ]
     },
     "execution_count": 8,
     "metadata": {},
     "output_type": "execute_result"
    },
    {
     "data": {
      "image/png": "[encoded data removed]",
      "text/plain": [
       "<Figure size 432x288 with 1 Axes>"
      ]
     },
     "metadata": {
      "needs_background": "light"
     },
     "output_type": "display_data"
    },
    {
     "data": {
      "text/plain": [
       "<Figure size 720x360 with 0 Axes>"
      ]
     },
     "metadata": {},
     "output_type": "display_data"
    }
   ],
   "source": [
    "plt.plot(fint_n1[:500])\n",
    "plt.plot(fint_n2[:500])\n",
    "# fig = plt.gcf()\n",
    "plt.figure(figsize=(10,5))"
   ]
  },
  {
   "cell_type": "code",
   "execution_count": 9,
   "metadata": {},
   "outputs": [
    {
     "data": {
      "text/plain": [
       "[<matplotlib.lines.Line2D at 0x25cb808e808>]"
      ]
     },
     "execution_count": 9,
     "metadata": {},
     "output_type": "execute_result"
    },
    {
     "data": {
      "image/png": "[encoded data removed]",
      "text/plain": [
       "<Figure size 432x288 with 1 Axes>"
      ]
     },
     "metadata": {
      "needs_background": "light"
     },
     "output_type": "display_data"
    }
   ],
   "source": [
    "plt.plot(fint_n2-fint_n1)"
   ]
  },
  {
   "cell_type": "code",
   "execution_count": 10,
   "metadata": {
    "collapsed": true,
    "jupyter": {
     "outputs_hidden": true
    }
   },
   "outputs": [
    {
     "data": {
      "text/plain": [
       "array([ True,  True,  True,  True,  True,  True,  True,  True,  True,\n",
       "        True, False, False, False, False, False, False, False, False,\n",
       "       False, False, False, False, False, False, False, False, False,\n",
       "       False, False, False, False, False, False, False, False, False,\n",
       "       False, False, False, False, False, False, False, False, False,\n",
       "       False, False, False, False, False, False, False, False, False,\n",
       "       False, False, False, False, False, False, False, False, False,\n",
       "       False, False, False, False, False, False, False, False, False,\n",
       "       False, False, False, False, False, False, False, False, False,\n",
       "       False, False, False, False, False, False, False, False, False,\n",
       "       False, False, False, False, False, False, False, False, False,\n",
       "       False, False, False, False, False, False, False, False, False,\n",
       "       False, False, False, False, False, False, False, False, False,\n",
       "       False, False, False, False, False, False, False, False, False,\n",
       "       False, False, False, False, False, False, False, False, False,\n",
       "       False, False, False, False, False, False, False, False, False,\n",
       "       False, False, False, False, False, False, False, False, False,\n",
       "       False, False, False, False, False,  True,  True,  True,  True,\n",
       "        True,  True,  True,  True,  True,  True,  True,  True,  True,\n",
       "        True,  True,  True,  True,  True,  True,  True,  True,  True,\n",
       "        True,  True,  True, False, False, False, False, False, False,\n",
       "       False, False, False, False, False, False, False, False, False,\n",
       "       False, False, False, False, False, False, False, False, False,\n",
       "        True,  True,  True,  True,  True,  True,  True,  True,  True,\n",
       "        True,  True,  True,  True,  True,  True,  True,  True,  True,\n",
       "        True,  True,  True,  True,  True,  True,  True,  True,  True,\n",
       "        True,  True,  True,  True,  True,  True,  True,  True,  True,\n",
       "        True,  True,  True,  True,  True,  True,  True,  True,  True,\n",
       "        True,  True,  True,  True,  True,  True,  True,  True,  True,\n",
       "        True,  True,  True,  True,  True,  True,  True,  True,  True,\n",
       "        True,  True,  True,  True,  True,  True,  True,  True,  True,\n",
       "        True,  True,  True,  True,  True,  True,  True,  True,  True,\n",
       "        True,  True,  True,  True,  True,  True,  True,  True,  True,\n",
       "        True,  True,  True,  True,  True,  True,  True,  True,  True,\n",
       "        True,  True,  True,  True,  True,  True,  True,  True,  True,\n",
       "        True,  True,  True,  True,  True,  True,  True,  True,  True,\n",
       "        True,  True,  True,  True,  True,  True,  True,  True,  True,\n",
       "        True,  True,  True,  True,  True,  True,  True,  True,  True,\n",
       "        True,  True,  True,  True,  True,  True,  True,  True,  True,\n",
       "        True,  True,  True,  True,  True,  True,  True,  True,  True,\n",
       "        True,  True,  True,  True,  True,  True,  True,  True,  True,\n",
       "        True,  True,  True,  True,  True,  True,  True,  True,  True,\n",
       "        True,  True,  True,  True,  True,  True,  True,  True,  True,\n",
       "        True,  True,  True,  True,  True,  True,  True,  True,  True,\n",
       "        True,  True,  True,  True,  True,  True,  True,  True,  True,\n",
       "        True,  True,  True,  True,  True,  True,  True,  True,  True,\n",
       "        True,  True,  True,  True,  True,  True,  True,  True,  True,\n",
       "        True,  True,  True,  True,  True,  True,  True,  True,  True,\n",
       "        True,  True,  True,  True,  True,  True,  True,  True,  True,\n",
       "        True,  True,  True,  True,  True,  True,  True,  True,  True,\n",
       "        True,  True,  True,  True,  True,  True,  True,  True,  True,\n",
       "        True,  True,  True,  True,  True,  True,  True,  True,  True,\n",
       "        True,  True,  True,  True,  True,  True,  True,  True,  True,\n",
       "        True,  True,  True,  True,  True,  True,  True,  True,  True,\n",
       "        True,  True,  True,  True,  True,  True,  True,  True,  True,\n",
       "        True,  True,  True,  True,  True,  True,  True,  True,  True,\n",
       "        True,  True,  True,  True,  True,  True,  True,  True,  True,\n",
       "        True,  True,  True,  True,  True,  True,  True,  True,  True,\n",
       "        True,  True,  True,  True,  True,  True,  True,  True,  True,\n",
       "        True,  True,  True,  True,  True,  True,  True,  True,  True,\n",
       "        True,  True,  True,  True,  True,  True,  True,  True,  True,\n",
       "        True,  True,  True,  True,  True,  True,  True,  True,  True,\n",
       "        True,  True,  True,  True,  True,  True,  True,  True,  True,\n",
       "        True,  True,  True,  True,  True,  True,  True,  True,  True,\n",
       "        True,  True,  True,  True,  True,  True,  True,  True,  True,\n",
       "        True,  True,  True,  True,  True,  True,  True,  True,  True,\n",
       "        True,  True,  True,  True,  True,  True,  True,  True,  True,\n",
       "        True,  True,  True,  True,  True,  True,  True,  True,  True,\n",
       "        True,  True,  True,  True,  True,  True,  True,  True,  True,\n",
       "        True,  True,  True,  True,  True,  True,  True,  True,  True,\n",
       "        True,  True,  True,  True,  True,  True,  True,  True,  True,\n",
       "        True,  True,  True,  True,  True,  True,  True,  True,  True,\n",
       "        True,  True,  True,  True,  True,  True,  True,  True,  True,\n",
       "        True,  True,  True,  True,  True,  True,  True,  True,  True,\n",
       "        True,  True,  True,  True,  True,  True,  True,  True,  True,\n",
       "        True,  True,  True,  True,  True,  True,  True,  True,  True,\n",
       "        True,  True,  True,  True,  True,  True,  True,  True,  True,\n",
       "        True,  True,  True,  True,  True,  True,  True,  True,  True,\n",
       "        True,  True,  True,  True,  True,  True,  True,  True,  True,\n",
       "        True,  True,  True,  True,  True,  True,  True,  True,  True,\n",
       "        True,  True,  True,  True,  True,  True,  True,  True,  True,\n",
       "        True,  True,  True,  True,  True,  True,  True,  True,  True,\n",
       "        True,  True,  True,  True,  True,  True,  True,  True,  True,\n",
       "        True,  True,  True,  True,  True,  True,  True,  True,  True,\n",
       "        True,  True,  True,  True,  True,  True,  True,  True,  True,\n",
       "        True,  True,  True,  True,  True,  True,  True,  True,  True,\n",
       "        True,  True,  True,  True,  True,  True,  True,  True,  True,\n",
       "        True,  True,  True,  True,  True,  True,  True,  True,  True,\n",
       "        True,  True,  True,  True,  True,  True,  True,  True,  True,\n",
       "        True,  True,  True,  True,  True,  True,  True,  True,  True,\n",
       "        True,  True,  True,  True,  True,  True,  True,  True,  True,\n",
       "        True,  True,  True,  True,  True,  True,  True,  True,  True,\n",
       "        True,  True,  True,  True,  True,  True,  True,  True,  True,\n",
       "        True,  True,  True,  True,  True,  True,  True,  True,  True,\n",
       "        True,  True,  True,  True,  True,  True,  True,  True,  True,\n",
       "        True,  True,  True,  True,  True,  True,  True,  True,  True,\n",
       "        True,  True,  True,  True,  True,  True,  True,  True,  True,\n",
       "        True,  True,  True,  True,  True,  True,  True,  True,  True,\n",
       "        True,  True,  True,  True,  True,  True,  True,  True,  True,\n",
       "        True,  True,  True,  True,  True,  True,  True,  True,  True,\n",
       "        True,  True,  True,  True,  True,  True,  True,  True,  True,\n",
       "        True,  True,  True,  True,  True,  True,  True,  True,  True,\n",
       "        True,  True,  True,  True,  True,  True,  True,  True,  True,\n",
       "        True,  True,  True,  True,  True,  True,  True,  True,  True,\n",
       "        True,  True,  True,  True,  True,  True,  True,  True,  True,\n",
       "        True,  True,  True,  True,  True,  True,  True,  True,  True,\n",
       "        True,  True,  True,  True,  True,  True,  True,  True,  True,\n",
       "        True,  True,  True,  True,  True,  True,  True,  True,  True,\n",
       "        True,  True,  True,  True,  True,  True,  True,  True,  True,\n",
       "        True,  True,  True,  True,  True,  True,  True,  True,  True,\n",
       "        True,  True,  True,  True,  True,  True,  True,  True,  True,\n",
       "        True])"
      ]
     },
     "execution_count": 10,
     "metadata": {},
     "output_type": "execute_result"
    }
   ],
   "source": [
    "fint_n2-fint_n1 <=1e-1"
   ]
  },
  {
   "cell_type": "code",
   "execution_count": 11,
   "metadata": {},
   "outputs": [
    {
     "data": {
      "text/plain": [
       "206"
      ]
     },
     "execution_count": 11,
     "metadata": {},
     "output_type": "execute_result"
    }
   ],
   "source": [
    "np.argwhere(np.abs(fint_n2-fint_n1)>1e-1)[-1,0]"
   ]
  },
  {
   "cell_type": "code",
   "execution_count": 12,
   "metadata": {},
   "outputs": [],
   "source": [
    "def settling_time(f_t1, f_t2, dt=1e-3, f_th=1e-3):\n",
    "    delf = np.abs(f_t1-f_t2)\n",
    "    t_settling = round(dt*np.argwhere(delf>f_th)[-1,0], 3)\n",
    "    return t_settling\n",
    "    "
   ]
  },
  {
   "cell_type": "code",
   "execution_count": 13,
   "metadata": {},
   "outputs": [
    {
     "data": {
      "text/plain": [
       "0.206"
      ]
     },
     "execution_count": 13,
     "metadata": {},
     "output_type": "execute_result"
    }
   ],
   "source": [
    "settling_time(fint_n1, fint_n2)"
   ]
  },
  {
   "cell_type": "code",
   "execution_count": 14,
   "metadata": {},
   "outputs": [
    {
     "name": "stdout",
     "output_type": "stream",
     "text": [
      "0.236\n",
      "0.208\n",
      "0.151\n",
      "0.149\n",
      "0.179\n"
     ]
    }
   ],
   "source": [
    "for i in range(5):\n",
    "    w_self=-1\n",
    "    w_cross=1\n",
    "    v_init=np.random.uniform(0, 1, size=(2,))\n",
    "    net = Network('net')\n",
    "    n1 = Neuron('n1')\n",
    "    n2 = Neuron('n2')\n",
    "    neurons = [n1, n2]\n",
    "    net.add_neuron(n1)\n",
    "    net.add_neuron(n2)\n",
    "\n",
    "    syn12 = Synapse('syn_12', n1, n2, h, w=w_cross)\n",
    "    syn21 = Synapse('syn_21', n2, n1, h, w=w_cross) # symmetric connectivity\n",
    "\n",
    "    syn_self=[]\n",
    "    for i in range(2):\n",
    "        syn_self.append(Synapse('syn_'+str(i)+str(i), neurons[i], neurons[i], h, w_self))\n",
    "        net.add_synapse(syn_self[-1])\n",
    "\n",
    "    net.add_synapse(syn12)\n",
    "    net.add_synapse(syn21)\n",
    "\n",
    "\n",
    "    T = 1000\n",
    "\n",
    "    # assign initial v \n",
    "    n1.v = v_init[0]\n",
    "    n2.v = v_init[1]\n",
    "\n",
    "    probe = net.initialize(probe=True, T_total = T)\n",
    "\n",
    "    V_0 = 1.5\n",
    "    v_ext = V_0*np.ones((2, T)) #same frequency of oscillation\n",
    "\n",
    "\n",
    "    tic = time.time()\n",
    "    for ti in range(T):\n",
    "        net.update_state(dt, v_ext[:,ti].reshape((-1,1)), probe, ti)\n",
    "\n",
    "    f_n1, fint_n1, floc_n1  = freq(probe['spike'][n1.id, :], dt, get_f_interpolated=True)\n",
    "    f_n2, fint_n2, floc_n2  = freq(probe['spike'][n2.id, :], dt, get_f_interpolated=True)\n",
    "\n",
    "    t_settl = settling_time(fint_n1, fint_n2, dt, f_th=1e-3)\n",
    "    print(t_settl)"
   ]
  },
  {
   "cell_type": "code",
   "execution_count": 17,
   "metadata": {},
   "outputs": [
    {
     "data": {
      "text/plain": [
       "'n1'"
      ]
     },
     "execution_count": 17,
     "metadata": {},
     "output_type": "execute_result"
    }
   ],
   "source": [
    "net.neurons[0].name"
   ]
  },
  {
   "cell_type": "code",
   "execution_count": 18,
   "metadata": {},
   "outputs": [
    {
     "name": "stdout",
     "output_type": "stream",
     "text": [
      "[[0 1 1 1 1]\n",
      " [0 1 0 1 0]\n",
      " [1 1 0 1 1]\n",
      " [0 0 1 0 1]\n",
      " [1 1 1 1 0]]\n"
     ]
    }
   ],
   "source": [
    "temp = np.random.randint(0, 2, size=(5,5))\n",
    "print(temp)"
   ]
  },
  {
   "cell_type": "code",
   "execution_count": 21,
   "metadata": {},
   "outputs": [],
   "source": [
    "temp2 = np.argwhere(temp)"
   ]
  },
  {
   "cell_type": "code",
   "execution_count": 22,
   "metadata": {},
   "outputs": [
    {
     "data": {
      "text/plain": [
       "array([[0, 1],\n",
       "       [0, 2],\n",
       "       [0, 3],\n",
       "       [0, 4],\n",
       "       [1, 1],\n",
       "       [1, 3],\n",
       "       [2, 0],\n",
       "       [2, 1],\n",
       "       [2, 3],\n",
       "       [2, 4],\n",
       "       [3, 2],\n",
       "       [3, 4],\n",
       "       [4, 0],\n",
       "       [4, 1],\n",
       "       [4, 2],\n",
       "       [4, 3]], dtype=int64)"
      ]
     },
     "execution_count": 22,
     "metadata": {},
     "output_type": "execute_result"
    }
   ],
   "source": [
    "temp2"
   ]
  },
  {
   "cell_type": "code",
   "execution_count": 24,
   "metadata": {},
   "outputs": [
    {
     "data": {
      "text/plain": [
       "16"
      ]
     },
     "execution_count": 24,
     "metadata": {},
     "output_type": "execute_result"
    }
   ],
   "source": [
    "temp2.shape[0]"
   ]
  },
  {
   "cell_type": "code",
   "execution_count": 26,
   "metadata": {},
   "outputs": [
    {
     "data": {
      "text/plain": [
       "1"
      ]
     },
     "execution_count": 26,
     "metadata": {},
     "output_type": "execute_result"
    }
   ],
   "source": [
    "temp2[0,1]"
   ]
  },
  {
   "cell_type": "code",
   "execution_count": 27,
   "metadata": {},
   "outputs": [
    {
     "data": {
      "text/plain": [
       "range(0, 16)"
      ]
     },
     "execution_count": 27,
     "metadata": {},
     "output_type": "execute_result"
    }
   ],
   "source": [
    "range(temp2.shape[0])"
   ]
  },
  {
   "cell_type": "code",
   "execution_count": 28,
   "metadata": {},
   "outputs": [
    {
     "data": {
      "text/plain": [
       "array([[0.65462909],\n",
       "       [0.03728191]])"
      ]
     },
     "execution_count": 28,
     "metadata": {},
     "output_type": "execute_result"
    }
   ],
   "source": [
    "net.v"
   ]
  },
  {
   "cell_type": "code",
   "execution_count": null,
   "metadata": {},
   "outputs": [],
   "source": []
  }
 ],
 "metadata": {
  "kernelspec": {
   "display_name": "Python 3",
   "language": "python",
   "name": "python3"
  },
  "language_info": {
   "codemirror_mode": {
    "name": "ipython",
    "version": 3
   },
   "file_extension": ".py",
   "mimetype": "text/x-python",
   "name": "python",
   "nbconvert_exporter": "python",
   "pygments_lexer": "ipython3",
   "version": "3.7.6"
  }
 },
 "nbformat": 4,
 "nbformat_minor": 4
}
